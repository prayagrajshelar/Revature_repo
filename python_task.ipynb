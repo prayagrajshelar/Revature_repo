{
 "cells": [
  {
   "cell_type": "code",
   "execution_count": null,
   "id": "9825d1af-477b-483e-9eda-7ee8ef11ada0",
   "metadata": {},
   "outputs": [],
   "source": [
    "str = \"prayagraj\"\n",
    "print(str.capitalize()) \n",
    "print(str.casefold()) #lowercase\n",
    "print(str.count(\"a\"))\n",
    "print(str.find(\"j\"))\n",
    "print(str.index(\"gra\"))\n",
    "print(str.rstrip(\"raj\"))\n",
    "print(str.upper())\n",
    "print(str.split(\"a\"))\n",
    "print(str.replace(\"a\",\"z\"))"
   ]
  },
  {
   "cell_type": "code",
   "execution_count": null,
   "id": "79b93f05-49c3-4e72-ad87-7c00f104d850",
   "metadata": {},
   "outputs": [],
   "source": [
    "li = [\"prayagraj\",23,43.54,2+4j,\"Revature\",23]\n",
    "print(li)"
   ]
  },
  {
   "cell_type": "code",
   "execution_count": null,
   "id": "a22ccc3f-1d82-4fa9-bee7-41885f2fc20b",
   "metadata": {},
   "outputs": [],
   "source": [
    "li.append(\"shelar\")\n",
    "li"
   ]
  },
  {
   "cell_type": "code",
   "execution_count": null,
   "id": "5b545acb-899f-4db8-a0eb-17bcc2584869",
   "metadata": {},
   "outputs": [],
   "source": [
    "li1 = li.copy()"
   ]
  },
  {
   "cell_type": "code",
   "execution_count": null,
   "id": "276032a1-8270-419a-802f-d1340057664c",
   "metadata": {},
   "outputs": [],
   "source": [
    "li1.count(23)"
   ]
  },
  {
   "cell_type": "code",
   "execution_count": null,
   "id": "cfde2f1e-e377-4c73-a767-53506e9e7507",
   "metadata": {},
   "outputs": [],
   "source": [
    "li.extend(li1)\n",
    "li"
   ]
  },
  {
   "cell_type": "code",
   "execution_count": null,
   "id": "83f8bd81-a30a-4b5c-8f2d-27ceec8199ef",
   "metadata": {},
   "outputs": [],
   "source": [
    "li.index(\"prayagraj\")"
   ]
  },
  {
   "cell_type": "code",
   "execution_count": null,
   "id": "cd937d2c-a1a5-43a7-a870-09b8f6f1dd73",
   "metadata": {},
   "outputs": [],
   "source": [
    "li1.pop(-1)"
   ]
  },
  {
   "cell_type": "code",
   "execution_count": null,
   "id": "eae98393-13d6-4415-b6dc-41c7b95aefa0",
   "metadata": {},
   "outputs": [],
   "source": [
    "li1.clear()\n",
    "li1"
   ]
  },
  {
   "cell_type": "code",
   "execution_count": null,
   "id": "e2f409ad-0a05-4d38-b99b-95bc5f54b0c5",
   "metadata": {},
   "outputs": [],
   "source": [
    "# Grade system\n",
    "score = float(input(\"enter your marks: \"))\n",
    "def get_score(score):\n",
    "    if score >= 90:\n",
    "        return \"A\"\n",
    "    elif 90 > score >= 80:\n",
    "        return \"B+\"\n",
    "    elif 80 > score >= 70:\n",
    "        return \"B\"\n",
    "    elif 70 > score >= 60:\n",
    "        return \"C\"\n",
    "    else:\n",
    "        return \"Fail\"\n",
    "\n",
    "if 0<= score <=100:\n",
    "    grade = get_score(score)\n",
    "    print(grade)\n",
    "else:\n",
    "    print(\"Enter valid marks\")"
   ]
  },
  {
   "cell_type": "code",
   "execution_count": null,
   "id": "2d0f2ec5-fef5-479b-946f-be3474b9615d",
   "metadata": {},
   "outputs": [],
   "source": [
    "str = \"MOM\"\n",
    "if str == str[::-1]:\n",
    "    print(\"string is palindrom\")\n",
    "else:\n",
    "    print(\"string is not palindrom\")"
   ]
  },
  {
   "cell_type": "code",
   "execution_count": null,
   "id": "709108ae-5df2-43ff-823e-694d873d36f3",
   "metadata": {},
   "outputs": [],
   "source": []
  },
  {
   "cell_type": "code",
   "execution_count": null,
   "id": "fad54ece-9ded-4d8d-9d53-f098075570ab",
   "metadata": {},
   "outputs": [],
   "source": [
    "def fib(n):\n",
    "    a, b = 0,1\n",
    "    for i in range(n):\n",
    "        print(f\"{a} \")\n",
    "        a, b = b, a+b\n",
    "num = int( input(\"Enter a number: \"))\n",
    "if num>0:\n",
    "    fib(num)\n",
    "else:\n",
    "    print(\"Pease enter positive number\")"
   ]
  },
  {
   "cell_type": "code",
   "execution_count": null,
   "id": "6e9b0049-25a4-487e-a80f-0910bae9624a",
   "metadata": {},
   "outputs": [],
   "source": [
    "num = float(input(\"enter a number : \"))\n",
    "if num%2==0:\n",
    "    print(f\"{num} is even number\")\n",
    "else:\n",
    "    print(f\"{num} is off number\")"
   ]
  },
  {
   "cell_type": "code",
   "execution_count": null,
   "id": "de8b390f-9a22-47e2-884f-f1c9bb262592",
   "metadata": {},
   "outputs": [],
   "source": [
    "numbers = list(range(1,101))\n",
    "for i in range(len(numbers)):\n",
    "    if numbers[i] % 2==0:\n",
    "        numbers[i] = \"@\"\n",
    "print(numbers)"
   ]
  },
  {
   "cell_type": "code",
   "execution_count": null,
   "id": "79c06c6a-f9a1-4036-a575-81ab48412ac3",
   "metadata": {},
   "outputs": [],
   "source": []
  }
 ],
 "metadata": {
  "kernelspec": {
   "display_name": "Python 3 (ipykernel)",
   "language": "python",
   "name": "python3"
  },
  "language_info": {
   "codemirror_mode": {
    "name": "ipython",
    "version": 3
   },
   "file_extension": ".py",
   "mimetype": "text/x-python",
   "name": "python",
   "nbconvert_exporter": "python",
   "pygments_lexer": "ipython3",
   "version": "3.12.4"
  }
 },
 "nbformat": 4,
 "nbformat_minor": 5
}
