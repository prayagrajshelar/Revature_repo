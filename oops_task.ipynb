{
  "nbformat": 4,
  "nbformat_minor": 0,
  "metadata": {
    "colab": {
      "provenance": []
    },
    "kernelspec": {
      "name": "python3",
      "display_name": "Python 3"
    },
    "language_info": {
      "name": "python"
    }
  },
  "cells": [
    {
      "cell_type": "code",
      "execution_count": 6,
      "metadata": {
        "colab": {
          "base_uri": "https://localhost:8080/"
        },
        "id": "RGwzcCgmorAb",
        "outputId": "a6210c07-bce3-4a02-a71d-c8809076acbb"
      },
      "outputs": [
        {
          "output_type": "stream",
          "name": "stdout",
          "text": [
            "Sony remote is On\n",
            "Battery charging: 70%\n",
            "Remote is on charging\n",
            "Battery charging: 100%\n"
          ]
        }
      ],
      "source": [
        "# Remote Example\n",
        "\n",
        "class Remote:\n",
        "  def __init__(self):\n",
        "    self.brand = \"Sony\"\n",
        "    self.battery = self.Battery()\n",
        "\n",
        "  def remote_on(self):\n",
        "    if self.battery.charge > 0:\n",
        "      print(f\"{self.brand} remote is On\")\n",
        "\n",
        "    else:\n",
        "      print(f\"{self.brand} remote has to charge !\")\n",
        "\n",
        "  def check_charging(self):\n",
        "    print(f\"Battery charging: {self.battery.charge}%\")\n",
        "\n",
        "\n",
        "  class Battery:\n",
        "    def __init__(self):\n",
        "      self.charge = 100\n",
        "\n",
        "    def batt_drain(self, amount):\n",
        "      self.charge = max(0, self.charge - amount)\n",
        "\n",
        "    def recharge(self):\n",
        "      self.charge = 100\n",
        "      print(\"Remote is on charging\")\n",
        "\n",
        "sony = Remote()\n",
        "sony.remote_on()\n",
        "sony.battery.batt_drain(30)\n",
        "sony.check_charging()\n",
        "sony.battery.recharge()\n",
        "sony.check_charging()\n",
        "\n",
        ""
      ]
    },
    {
      "cell_type": "markdown",
      "source": [
        "# OOPS Programs"
      ],
      "metadata": {
        "id": "G12mMAYorf8O"
      }
    },
    {
      "cell_type": "code",
      "source": [
        "#single inheritance\n",
        "\n",
        "class Animal:\n",
        "  def sound(self):\n",
        "    print(\"Animal makes sound\")\n",
        "class Cat(Animal):\n",
        "  def meow(self):\n",
        "    print(\"Cat sounds Meow-Meow\")\n",
        "cat = Cat()\n",
        "cat.sound()\n",
        "cat.meow()"
      ],
      "metadata": {
        "colab": {
          "base_uri": "https://localhost:8080/"
        },
        "id": "tfHwnhGzqeEh",
        "outputId": "92a172c8-42cc-4b28-d9e3-8d357a4c0536"
      },
      "execution_count": 8,
      "outputs": [
        {
          "output_type": "stream",
          "name": "stdout",
          "text": [
            "Animal makes sound\n",
            "Cat sounds Meow-Meow\n"
          ]
        }
      ]
    },
    {
      "cell_type": "code",
      "source": [
        "# multiple inheritance\n",
        "class Father:\n",
        "  def attitude(self):\n",
        "    print(\"Strong and bold\")\n",
        "class Mother:\n",
        "  def qualities(self):\n",
        "    print(\"Loving nature\")\n",
        "class Child(Father, Mother):\n",
        "  def behavior(self):\n",
        "    print(\"Smart Kid\")\n",
        "child = Child()\n",
        "child.attitude()\n",
        "child.qualities()\n",
        "child.behavior()"
      ],
      "metadata": {
        "colab": {
          "base_uri": "https://localhost:8080/"
        },
        "id": "EBrukLZSrqwK",
        "outputId": "574501ca-7f9a-4e83-a6eb-bbefb62da630"
      },
      "execution_count": 9,
      "outputs": [
        {
          "output_type": "stream",
          "name": "stdout",
          "text": [
            "Strong and bold\n",
            "Loving nature\n",
            "Smart Kid\n"
          ]
        }
      ]
    },
    {
      "cell_type": "code",
      "source": [
        "# Multilevel inheritance\n",
        "class Grandparent:\n",
        "  def origin(self):\n",
        "    print(\"From Roots\")\n",
        "class Parent(Grandparent):\n",
        "  def guide(self):\n",
        "    print(\"Guidance\")\n",
        "class Kid(Parent):\n",
        "  def learn(self):\n",
        "    print(\"Learnings\")\n",
        "kid = Kid()\n",
        "kid.origin()\n",
        "kid.guide()\n",
        "kid.learn()"
      ],
      "metadata": {
        "colab": {
          "base_uri": "https://localhost:8080/"
        },
        "id": "4Y9Vs70ys600",
        "outputId": "943b06e6-02c2-42f2-ec58-6f7d9c1c2ff1"
      },
      "execution_count": 12,
      "outputs": [
        {
          "output_type": "stream",
          "name": "stdout",
          "text": [
            "From Roots\n",
            "Guidance\n",
            "Learnings\n"
          ]
        }
      ]
    },
    {
      "cell_type": "markdown",
      "source": [
        "#Lambda Functions"
      ],
      "metadata": {
        "id": "yIJe0MFFtmw8"
      }
    },
    {
      "cell_type": "code",
      "source": [
        "prime = lambda num: num > 0 and all(num % i != 0 for i in range(2, int(num**0.5)+1))\n",
        "prime_nums = list(filter(prime, range(2,20)))\n",
        "print(prime_nums)"
      ],
      "metadata": {
        "colab": {
          "base_uri": "https://localhost:8080/"
        },
        "id": "nl7jBifWthhW",
        "outputId": "53f2e81a-5959-4435-ae44-f7c64609b99c"
      },
      "execution_count": 15,
      "outputs": [
        {
          "output_type": "stream",
          "name": "stdout",
          "text": [
            "[2, 3, 5, 7, 11, 13, 17, 19]\n"
          ]
        }
      ]
    },
    {
      "cell_type": "code",
      "source": [
        "even_numbers = list(filter(lambda x: x % 2 == 0, range(1, 21)))\n",
        "print(\"Even Numbers (1–20):\", even_numbers)"
      ],
      "metadata": {
        "colab": {
          "base_uri": "https://localhost:8080/"
        },
        "id": "bWETG2eoueSl",
        "outputId": "b93cb229-777c-4a8b-b94e-5924407d2f08"
      },
      "execution_count": 16,
      "outputs": [
        {
          "output_type": "stream",
          "name": "stdout",
          "text": [
            "Even Numbers (1–20): [2, 4, 6, 8, 10, 12, 14, 16, 18, 20]\n"
          ]
        }
      ]
    },
    {
      "cell_type": "code",
      "source": [
        "odd_numbers = list(filter(lambda x: x % 2 != 0, range(1, 21)))\n",
        "print(\"Odd Numbers (1–20):\", odd_numbers)"
      ],
      "metadata": {
        "colab": {
          "base_uri": "https://localhost:8080/"
        },
        "id": "UIixHwqPujV2",
        "outputId": "720b2a80-8a76-4942-9195-763c2f6a4f8d"
      },
      "execution_count": 17,
      "outputs": [
        {
          "output_type": "stream",
          "name": "stdout",
          "text": [
            "Odd Numbers (1–20): [1, 3, 5, 7, 9, 11, 13, 15, 17, 19]\n"
          ]
        }
      ]
    },
    {
      "cell_type": "markdown",
      "source": [
        "#Encapsulation"
      ],
      "metadata": {
        "id": "iy-BNCQDuutm"
      }
    },
    {
      "cell_type": "code",
      "source": [
        "class Bank_Account:\n",
        "  def __init__(self):\n",
        "    self.balance = 0\n",
        "    self._account = 12345\n",
        "    self.__pin = 222\n",
        "\n",
        "  def deposite(self, amount):\n",
        "    self.balance += amount\n",
        "\n",
        "  def show_info(self):\n",
        "    print(f\"Balance: {self.balance}\")\n",
        "    print(f\"Account number: {self._account}\")\n",
        "    print(f\"Pin: {self.__pin}\")\n",
        "\n",
        "account = Bank_Account()\n",
        "account.deposite(100)\n",
        "account.show_info()"
      ],
      "metadata": {
        "colab": {
          "base_uri": "https://localhost:8080/"
        },
        "id": "CEU7GVzWuk7R",
        "outputId": "a5061079-2fa1-4e15-cefa-d53200bb6273"
      },
      "execution_count": 21,
      "outputs": [
        {
          "output_type": "stream",
          "name": "stdout",
          "text": [
            "Balance: 100\n",
            "Account number: 12345\n",
            "Pin: 222\n"
          ]
        }
      ]
    },
    {
      "cell_type": "code",
      "source": [
        "class Bird:\n",
        "    def fly(self):\n",
        "        print(\"Some birds fly\")\n",
        "\n",
        "class Sparrow(Bird):\n",
        "    def fly(self):\n",
        "        print(\"Sparrow flies high\")\n",
        "\n",
        "class Peacock(Bird):\n",
        "    def fly(self):\n",
        "        print(\"Peacock can't fly high\")\n",
        "\n",
        "def test_flying(bird_obj):\n",
        "    bird_obj.fly()\n",
        "\n",
        "sparrow = Sparrow()\n",
        "peacock = Peacock()\n",
        "\n",
        "test_flying(sparrow)\n",
        "test_flying(peacock)\n"
      ],
      "metadata": {
        "colab": {
          "base_uri": "https://localhost:8080/"
        },
        "id": "Z17N9nxevZAu",
        "outputId": "9db25671-c7f9-4bd9-b1da-eefeb583a21d"
      },
      "execution_count": 24,
      "outputs": [
        {
          "output_type": "stream",
          "name": "stdout",
          "text": [
            "Sparrow flies high\n",
            "Peacock can't fly high\n"
          ]
        }
      ]
    },
    {
      "cell_type": "code",
      "source": [],
      "metadata": {
        "id": "eBvuyvZ3v023"
      },
      "execution_count": null,
      "outputs": []
    }
  ]
}